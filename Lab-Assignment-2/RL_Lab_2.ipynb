{
  "nbformat": 4,
  "nbformat_minor": 0,
  "metadata": {
    "colab": {
      "name": "211022001_211022002_211022005.ipynb",
      "provenance": [],
      "collapsed_sections": []
    },
    "kernelspec": {
      "name": "python3",
      "display_name": "Python 3"
    },
    "language_info": {
      "name": "python"
    }
  },
  "cells": [
    {
      "cell_type": "markdown",
      "source": [
        "Members :  \n",
        "    Arvind Pandit (211022001)   \n",
        "    Girish Kumar Gupta (211022002)  \n",
        "    Sumanth S Raikar (211022005) "
      ],
      "metadata": {
        "id": "zu1R77YsyVXP"
      }
    },
    {
      "cell_type": "code",
      "execution_count": 1,
      "metadata": {
        "id": "iUwO40M-VTra"
      },
      "outputs": [],
      "source": [
        "import numpy as np\n",
        "import matplotlib.pyplot as plt"
      ]
    },
    {
      "cell_type": "markdown",
      "source": [
        "# Bernoulli Distribution of rewards"
      ],
      "metadata": {
        "id": "3xUyXMbfwlvh"
      }
    },
    {
      "cell_type": "code",
      "source": [
        "class epsilon_Greedy:\n",
        "    '''Choose arms equally likely with probability epsilon\n",
        "       Choose greedy stratergy with probability 1-epsilon'''\n",
        "    def __init__(self,epsilon,no_of_arms,no_of_games,is_e_i_greedy):\n",
        "        self.epsilon=epsilon\n",
        "        self.no_of_arms = no_of_arms\n",
        "        self.no_of_games = no_of_games\n",
        "        #self.reward_matrix = np.zeros((self.no_of_games,self.no_of_arms))\n",
        "        #self.action_matrix = np.zeros((self.no_of_games,self.no_of_arms))\n",
        "        if (self.no_of_arms==10):\n",
        "          self.arm_win_probs = np.array([0.50,0.57, 0.32, 0.25,0.2,0.45,0.35, 0.20, 0.31,0.1])#np.random.uniform(0,1,self.no_of_arms)\n",
        "        if (self.no_of_arms==5):\n",
        "          self.arm_win_probs = np.array([0.50,0.57,0.32,0.25,0.2])\n",
        "        if (self.no_of_arms==2):\n",
        "          self.arm_win_probs = np.array([0.5,0.3])  \n",
        "\n",
        "        # self.arm_win_probs=np.random.uniform(0,1,self.no_of_arms)\n",
        "        self.second_best = 0.50\n",
        "        self.best_arm = np.argmax(self.arm_win_probs)+1\n",
        "        self.best_mean = np.max(self.arm_win_probs)\n",
        "        self.regret = np.zeros((1,no_of_games))[0]\n",
        "        if is_e_i_greedy:\n",
        "          self.e_i_greedy=True\n",
        "        else:\n",
        "          self.e_i_greedy=False  \n",
        "\n",
        "    def reward_generator(self,name,arm_id,i):\n",
        "        if (name=='bernoulli'):\n",
        "            #prob = np.round(self.arm_win_probs[arm_id-1],4)\n",
        "            prob = self.arm_win_probs[arm_id-1]\n",
        "            #print(type(prob))\n",
        "            reward=np.random.choice([1,0],p=[prob,1-prob]) \n",
        "            #reward=np.random.binomial(1, prob)    \n",
        "            regret=self.best_mean-self.arm_win_probs[arm_id-1]      \n",
        "        return reward,regret      \n",
        "\n",
        "    def select_arms(self,reward_mat,action_mat,i):\n",
        "      \n",
        "        r = np.random.random()\n",
        "        if self.e_i_greedy:\n",
        "          self.epsilon = np.min([1,((0.2*self.no_of_arms)/(((self.best_mean-0.35)**2)*(i+1)))])\n",
        "        net_reward = reward_mat.sum(axis=0)\n",
        "        per_arm_total = action_mat.sum(axis=0)\n",
        "        empirical_mean = net_reward/per_arm_total\n",
        "        if r<self.epsilon:\n",
        "          #arm=np.random.choice(np.delete(list(range(N_BANDITS)), np.argmax(success_ratio)))\n",
        "          arm= np.random.choice(list(range(1,self.no_of_arms+1)))   \n",
        "          return arm     \n",
        "              \n",
        "        else:\n",
        "          #Select Arm with highest empirical mean reward\n",
        "          arm = np.argmax(empirical_mean)+1\n",
        "          return arm  \n",
        "        #self.action_matrix[i,int(arm)-1] = 1\n",
        "        #self.reward_matrix[i,int(arm)-1] = self.reward_generator('bernoulli', int(arm))\n",
        "\n",
        "          \n",
        "        \n",
        "        \n",
        "    #def get_output(self):\n",
        "    #    return self.action_matrix,self.reward_matrix,self.best_arm,self.best_mean,self.regret\n"
      ],
      "metadata": {
        "id": "fsQKQ9uTwiEt"
      },
      "execution_count": 2,
      "outputs": []
    },
    {
      "cell_type": "code",
      "source": [
        "class UCB:\n",
        "    \n",
        "    def __init__(self,no_of_arms,no_of_games):\n",
        "        self.no_of_arms = no_of_arms\n",
        "        self.no_of_games = no_of_games\n",
        "        #self.reward_matrix = np.zeros((self.no_of_games,self.no_of_arms))\n",
        "        #self.action_matrix = np.zeros((self.no_of_games,self.no_of_arms))\n",
        "        self.arm_win_probs = np.array([0.50,0.57, 0.32, 0.25,0.2,0.45,0.35, 0.20, 0.31,0.1])#np.random.uniform(0,1,self.no_of_arms)\n",
        "        # self.arm_win_probs=np.random.uniform(0,1,self.no_of_arms)\n",
        "        self.second_best = 0.50\n",
        "        self.best_arm = np.argmax(self.arm_win_probs)+1\n",
        "        self.best_mean = np.max(self.arm_win_probs)\n",
        "        #self.regret = []\n",
        "\n",
        "    def reward_generator(self,name,arm_id,i):\n",
        "        if (name=='bernoulli'):\n",
        "            #prob = np.round(self.arm_win_probs[arm_id-1],4)\n",
        "            prob = self.arm_win_probs[arm_id-1]\n",
        "            #print(type(prob))\n",
        "            reward=np.random.choice([1,0],p=[prob,1-prob]) \n",
        "            #reward=np.random.binomial(1, prob)    \n",
        "            regret=self.best_mean-self.arm_win_probs[arm_id-1]      \n",
        "        return reward,regret    \n",
        "\n",
        "    def select_arms(self,reward_mat,action_mat,i):\n",
        "      \n",
        "        net_reward = reward_mat.sum(axis=0)\n",
        "        per_arm_total = action_mat.sum(axis=0)\n",
        "        empirical_mean = net_reward/per_arm_total\n",
        "        bias = np.sqrt(2*np.log(np.sum(per_arm_total))/per_arm_total)\n",
        "        return np.argmax(empirical_mean+bias)+1\n",
        "               \n"
      ],
      "metadata": {
        "id": "whV6wXnDwiEv"
      },
      "execution_count": 3,
      "outputs": []
    },
    {
      "cell_type": "code",
      "source": [
        "class Softmax:\n",
        "    \n",
        "    def __init__(self,temprature,no_of_arms,no_of_games):\n",
        "        self.no_of_arms = no_of_arms\n",
        "        self.no_of_games = no_of_games\n",
        "        self.temp = temprature\n",
        "        #self.reward_matrix = np.zeros((self.no_of_games,self.no_of_arms))\n",
        "        #self.action_matrix = np.zeros((self.no_of_games,self.no_of_arms))\n",
        "        self.arm_win_probs = np.array([0.50,0.57, 0.32, 0.25,0.2,0.45,0.35, 0.20, 0.31,0.1])#np.random.uniform(0,1,self.no_of_arms)\n",
        "        # self.arm_win_probs=np.random.uniform(0,1,self.no_of_arms)\n",
        "        self.second_best = 0.50\n",
        "        self.best_arm = np.argmax(self.arm_win_probs)+1\n",
        "        self.best_mean = np.max(self.arm_win_probs)\n",
        "        #self.regret = []\n",
        "\n",
        "    def reward_generator(self,name,arm_id,i):\n",
        "        if (name=='bernoulli'):\n",
        "            #prob = np.round(self.arm_win_probs[arm_id-1],4)\n",
        "            prob = self.arm_win_probs[arm_id-1]\n",
        "            #print(type(prob))\n",
        "            reward=np.random.choice([1,0],p=[prob,1-prob]) \n",
        "            #reward=np.random.binomial(1, prob)    \n",
        "            regret=self.best_mean-self.arm_win_probs[arm_id-1]      \n",
        "        return reward,regret    \n",
        "\n",
        "    def select_arms(self,reward_mat,action_mat,i):\n",
        "      \n",
        "        net_reward = reward_mat.sum(axis=0)\n",
        "        per_arm_total = action_mat.sum(axis=0)\n",
        "        empirical_mean = net_reward/per_arm_total\n",
        "        denom = np.sum(np.exp(empirical_mean/self.temp))\n",
        "        val = np.exp(empirical_mean)/denom\n",
        "        return np.argmax(val)+1\n",
        "               \n"
      ],
      "metadata": {
        "id": "_tvC2sUowiEw"
      },
      "execution_count": 4,
      "outputs": []
    },
    {
      "cell_type": "code",
      "source": [
        "class Thompson_Sampling:\n",
        "    \n",
        "    def __init__(self,no_of_arms,no_of_games):\n",
        "        self.no_of_arms = no_of_arms\n",
        "        self.no_of_games = no_of_games\n",
        "        #self.reward_matrix = np.zeros((self.no_of_games,self.no_of_arms))\n",
        "        #self.action_matrix = np.zeros((self.no_of_games,self.no_of_arms))\n",
        "        self.arm_win_probs = np.array([0.50,0.57, 0.32, 0.25,0.2,0.45,0.35, 0.20, 0.31,0.1])#np.random.uniform(0,1,self.no_of_arms)\n",
        "        # self.arm_win_probs=np.random.uniform(0,1,self.no_of_arms)\n",
        "        self.second_best = 0.50\n",
        "        self.best_arm = np.argmax(self.arm_win_probs)+1\n",
        "        self.best_mean = np.max(self.arm_win_probs)\n",
        "        #self.regret = []\n",
        "\n",
        "    def reward_generator(self,name,arm_id,i):\n",
        "        if (name=='bernoulli'):\n",
        "            #prob = np.round(self.arm_win_probs[arm_id-1],4)\n",
        "            prob = self.arm_win_probs[arm_id-1]\n",
        "            #print(type(prob))\n",
        "            reward=np.random.choice([1,0],p=[prob,1-prob]) \n",
        "            #reward=np.random.binomial(1, prob)    \n",
        "            regret=self.best_mean-self.arm_win_probs[arm_id-1]      \n",
        "        return reward,regret    \n",
        "\n",
        "    def select_arms(self,reward_mat,action_mat,i):\n",
        "      \n",
        "        net_reward = reward_mat.sum(axis=0) #Computes sum of rewards for each arm(0 or 1)\n",
        "        per_arm_total = action_mat.sum(axis=0)#Computes number of times each arm was picked(0 or 1)\n",
        "        loss_count = per_arm_total-net_reward# Computes number of times each arm lost\n",
        "        if i==0:\n",
        "          print(net_reward[0],loss_count[0])\n",
        "        \n",
        "        ''' Beta distribution characterized by alpha and beta\n",
        "        Every time it wins alpha increments else beta increments'''\n",
        "        arms = [np.random.beta(1+net_reward[j],1+loss_count[j]) for j in range(self.no_of_arms)]\n",
        "        \n",
        "        return np.argmax(arms)+1\n",
        "               \n"
      ],
      "metadata": {
        "id": "h18ZyyWIwiEx"
      },
      "execution_count": 5,
      "outputs": []
    },
    {
      "cell_type": "code",
      "source": [
        "class RC():\n",
        "    def __init__(self, n_arms,no_of_plays):\n",
        "        \n",
        "        self.no_of_plays = no_of_plays\n",
        "        self.n_arms = n_arms\n",
        "        self.actual_probs = np.array([0.50,0.57, 0.32, 0.25,0.2,0.45,0.35, 0.20, 0.31,0.1])\n",
        "        self.best=np.max(self.actual_probs)\n",
        "        self.preference = np.zeros((1,self.n_arms))[0]\n",
        "        self.beta = 0.01\n",
        "        self.reward=np.zeros((self.n_arms,self.no_of_plays))\n",
        "        self.regret = np.zeros((1,self.no_of_plays))[0]\n",
        "        self.exp_reward=0\n",
        "\n",
        "    def softmax_cal(self):\n",
        "      return np.exp(self.preference)/np.sum(np.exp(self.preference))\n",
        "\n",
        "    def update(self,name,i):\n",
        "      reward_t,self.regret[i],arm_id = self.reward_generator(name,np.random.choice(np.arange(1,self.n_arms + 1),p=self.softmax_cal()))\n",
        "      self.exp_reward =(1-1.0/(i+1))*self.exp_reward+(1.0/(i+1))*reward_t\n",
        "      difference = reward_t-self.exp_reward\n",
        "      self.preference[arm_id-1]=self.preference[arm_id-1]+self.beta*difference\n",
        "      self.exp_reward = self.exp_reward+ (1/(i+1)*(reward_t-self.exp_reward))\n",
        "    \n",
        "      \n",
        "\n",
        "    def reward_generator(self,name,arm_id):\n",
        "      if name=='bernoulli':\n",
        "        prob = self.actual_probs[arm_id-1] \n",
        "        reward=np.random.choice([1,0],p=[prob,1-prob]) \n",
        "        regret = self.best-self.actual_probs[arm_id-1] \n",
        "      if name=='normy':\n",
        "        prob = self.actual_probs[arm_id-1]\n",
        "        reward = np.random.normal(prob,1,1)\n",
        "        regret = self.best-self.actual_probs[arm_id-1]  \n",
        "\n",
        "      return reward,regret,arm_id"
      ],
      "metadata": {
        "id": "afJ6jDXKuPrc"
      },
      "execution_count": 6,
      "outputs": []
    },
    {
      "cell_type": "markdown",
      "source": [
        "## K=2"
      ],
      "metadata": {
        "id": "uyIfmgmKbSjk"
      }
    },
    {
      "cell_type": "code",
      "source": [
        "#E-Greedy\n",
        "no_of_games=10000\n",
        "reward_matrix = np.zeros((no_of_games,2))\n",
        "action_matrix = np.zeros((no_of_games,2))\n",
        "regret_arr = np.zeros((1,no_of_games))[0]\n",
        "exp1 = epsilon_Greedy(0.1,no_of_arms=2,no_of_games=10000,is_e_i_greedy=0)\n",
        "for i in range(no_of_games):\n",
        "  arm=exp1.select_arms(reward_matrix,action_matrix,i)\n",
        "  action_matrix[i,int(arm)-1]=1\n",
        "  reward_matrix[i,int(arm)-1],regret_arr[i] = exp1.reward_generator('bernoulli', int(arm),i) \n",
        "\n",
        "\n",
        "  "
      ],
      "metadata": {
        "colab": {
          "base_uri": "https://localhost:8080/"
        },
        "outputId": "97928a41-97df-4502-84c4-980b6fff2178",
        "id": "ePQA18j5bSjq"
      },
      "execution_count": 7,
      "outputs": [
        {
          "output_type": "stream",
          "name": "stderr",
          "text": [
            "/usr/local/lib/python3.7/dist-packages/ipykernel_launcher.py:44: RuntimeWarning: invalid value encountered in true_divide\n"
          ]
        }
      ]
    },
    {
      "cell_type": "code",
      "source": [
        "#E-t Greedy\n",
        "no_of_games=10000\n",
        "\n",
        "reward_matrix2 = np.zeros((no_of_games,2))\n",
        "action_matrix2 = np.zeros((no_of_games,2))\n",
        "regret_arr2 = np.zeros((1,no_of_games))[0]\n",
        "exp2 = epsilon_Greedy(0.1,no_of_arms=2,no_of_games=10000,is_e_i_greedy=1)\n",
        "for i in range(no_of_games):\n",
        "  arm=exp2.select_arms(reward_matrix2,action_matrix2,i)\n",
        "  action_matrix2[i,int(arm)-1]=1\n",
        "  reward_matrix2[i,int(arm)-1],regret_arr2[i] = exp2.reward_generator('bernoulli', int(arm),i) "
      ],
      "metadata": {
        "colab": {
          "base_uri": "https://localhost:8080/"
        },
        "outputId": "740be40f-27d1-4f02-bcaf-34137cb6fd12",
        "id": "VfssYKEGbSjv"
      },
      "execution_count": 8,
      "outputs": [
        {
          "output_type": "stream",
          "name": "stderr",
          "text": [
            "/usr/local/lib/python3.7/dist-packages/ipykernel_launcher.py:44: RuntimeWarning: invalid value encountered in true_divide\n"
          ]
        }
      ]
    },
    {
      "cell_type": "code",
      "source": [
        "#UCB\n",
        "reward_matrix3 = np.zeros((no_of_games,2))\n",
        "action_matrix3 = np.zeros((no_of_games,2))\n",
        "regret_arr3 = np.zeros((1,no_of_games))[0]\n",
        "ucb1 = UCB(no_of_arms=2,no_of_games=10000)\n",
        "for i in range(10000):\n",
        "  arm=ucb1.select_arms(reward_matrix3,action_matrix3,i)\n",
        "  action_matrix3[i,int(arm)-1]=1\n",
        "  reward_matrix3[i,int(arm)-1],regret_arr3[i] = ucb1.reward_generator('bernoulli', int(arm),i) \n"
      ],
      "metadata": {
        "colab": {
          "base_uri": "https://localhost:8080/"
        },
        "outputId": "a96dec30-a359-4cec-a07b-bee648d0735d",
        "id": "mJYVWSrAbSjw"
      },
      "execution_count": 9,
      "outputs": [
        {
          "output_type": "stream",
          "name": "stderr",
          "text": [
            "/usr/local/lib/python3.7/dist-packages/ipykernel_launcher.py:29: RuntimeWarning: invalid value encountered in true_divide\n",
            "/usr/local/lib/python3.7/dist-packages/ipykernel_launcher.py:30: RuntimeWarning: divide by zero encountered in log\n",
            "/usr/local/lib/python3.7/dist-packages/ipykernel_launcher.py:30: RuntimeWarning: invalid value encountered in sqrt\n",
            "/usr/local/lib/python3.7/dist-packages/ipykernel_launcher.py:30: RuntimeWarning: invalid value encountered in true_divide\n"
          ]
        }
      ]
    },
    {
      "cell_type": "code",
      "source": [
        "#Softmax\n",
        "\n",
        "reward_matrix4 = np.zeros((no_of_games,2))\n",
        "action_matrix4 = np.zeros((no_of_games,2))\n",
        "regret_arr4 = np.zeros((1,no_of_games))[0]\n",
        "soft = Softmax(temprature=0.01,no_of_arms=2,no_of_games=10000)\n",
        "for i in range(10000):\n",
        "  arm=soft.select_arms(reward_matrix4,action_matrix4,i)\n",
        "  action_matrix4[i,int(arm)-1]=1\n",
        "  reward_matrix4[i,int(arm)-1],regret_arr4[i] = soft.reward_generator('bernoulli', int(arm),i) \n"
      ],
      "metadata": {
        "colab": {
          "base_uri": "https://localhost:8080/"
        },
        "outputId": "35f3df49-3481-461a-f1ea-3f4d41ac91c3",
        "id": "pH6KpKL6bSjy"
      },
      "execution_count": 10,
      "outputs": [
        {
          "output_type": "stream",
          "name": "stderr",
          "text": [
            "/usr/local/lib/python3.7/dist-packages/ipykernel_launcher.py:30: RuntimeWarning: invalid value encountered in true_divide\n"
          ]
        }
      ]
    },
    {
      "cell_type": "code",
      "source": [
        "#Thompson-Sampling\n",
        "\n",
        "reward_matrix5 = np.zeros((no_of_games,2))\n",
        "action_matrix5 = np.zeros((no_of_games,2))\n",
        "regret_arr5 = np.zeros((1,no_of_games))[0]\n",
        "TS = Thompson_Sampling(no_of_arms=2,no_of_games=10000)\n",
        "for i in range(10000):\n",
        "  arm=TS.select_arms(reward_matrix5,action_matrix5,i)\n",
        "  action_matrix5[i,int(arm)-1]=1\n",
        "  reward_matrix5[i,int(arm)-1],regret_arr5[i] = TS.reward_generator('bernoulli', int(arm),i) \n"
      ],
      "metadata": {
        "colab": {
          "base_uri": "https://localhost:8080/"
        },
        "outputId": "835b44ac-23fa-463f-b032-50189ee8fb1b",
        "id": "2oa5jH_qdwKu"
      },
      "execution_count": 11,
      "outputs": [
        {
          "output_type": "stream",
          "name": "stdout",
          "text": [
            "0.0 0.0\n"
          ]
        }
      ]
    },
    {
      "cell_type": "code",
      "source": [
        "# Reinforce\n",
        "Recomp_bernoulli = RC(n_arms=2,no_of_plays=10000)\n",
        "\n",
        "for i in range(10000):\n",
        "  Recomp_bernoulli.update('bernoulli',i)\n",
        "\n",
        "print(f'The learnt preference vector for Bernoulli Rewards is{Recomp_bernoulli.preference}')\n",
        "print(f'The best arm from Algorithm is {np.argmax(Recomp_bernoulli.preference)+1}')\n"
      ],
      "metadata": {
        "colab": {
          "base_uri": "https://localhost:8080/"
        },
        "id": "xsyz70KeubIs",
        "outputId": "8b6831ab-9757-49aa-e82e-465a6c7330eb"
      },
      "execution_count": 12,
      "outputs": [
        {
          "output_type": "stream",
          "name": "stdout",
          "text": [
            "The learnt preference vector for Bernoulli Rewards is[-1.01531099  1.10876999]\n",
            "The best arm from Algorithm is 2\n"
          ]
        }
      ]
    },
    {
      "cell_type": "code",
      "source": [
        "plt.plot(np.cumsum(regret_arr),'b',label='E-Greedy')\n",
        "plt.plot(np.cumsum(regret_arr2),'r',label='E-t Greedy')\n",
        "plt.plot(np.cumsum(regret_arr3),'g',label='UCB')\n",
        "plt.plot(np.cumsum(regret_arr5),'y',label='Thompson')\n",
        "plt.plot(np.cumsum(Recomp_bernoulli.regret),'c',label='Reinforce')\n",
        "plt.legend(loc='upper left',ncol=1)\n",
        "plt.xlabel('No. of plays')\n",
        "plt.ylabel(\"Cummulative Regret\")\n",
        "plt.grid()"
      ],
      "metadata": {
        "colab": {
          "base_uri": "https://localhost:8080/",
          "height": 279
        },
        "outputId": "9f2b28fa-92cc-4361-e309-618cb573b29a",
        "id": "si79b58mbSj0"
      },
      "execution_count": 13,
      "outputs": [
        {
          "output_type": "display_data",
          "data": {
            "text/plain": [
              "<Figure size 432x288 with 1 Axes>"
            ],
            "image/png": "[encoded data removed]"
          },
          "metadata": {
            "needs_background": "light"
          }
        }
      ]
    },
    {
      "cell_type": "code",
      "source": [
        "plt.plot(np.cumsum(regret_arr4),'y',label='Softmax')\n",
        "plt.legend()\n",
        "plt.xlabel('No. of playss')\n",
        "plt.ylabel(\"Cummulative Regret\")\n",
        "plt.grid()"
      ],
      "metadata": {
        "colab": {
          "base_uri": "https://localhost:8080/",
          "height": 279
        },
        "outputId": "2573d089-234b-44ce-e9f8-6966667a8c4c",
        "id": "m6T6jw6ibSj2"
      },
      "execution_count": 14,
      "outputs": [
        {
          "output_type": "display_data",
          "data": {
            "text/plain": [
              "<Figure size 432x288 with 1 Axes>"
            ],
            "image/png": "[encoded data removed]"
          },
          "metadata": {
            "needs_background": "light"
          }
        }
      ]
    },
    {
      "cell_type": "markdown",
      "source": [
        "## K=5"
      ],
      "metadata": {
        "id": "olqPdt17YQfD"
      }
    },
    {
      "cell_type": "code",
      "source": [
        "#E-Greedy\n",
        "no_of_games=10000\n",
        "reward_matrix = np.zeros((no_of_games,5))\n",
        "action_matrix = np.zeros((no_of_games,5))\n",
        "regret_arr = np.zeros((1,no_of_games))[0]\n",
        "exp1 = epsilon_Greedy(0.1,no_of_arms=5,no_of_games=10000,is_e_i_greedy=0)\n",
        "for i in range(no_of_games):\n",
        "  arm=exp1.select_arms(reward_matrix,action_matrix,i)\n",
        "  action_matrix[i,int(arm)-1]=1\n",
        "  reward_matrix[i,int(arm)-1],regret_arr[i] = exp1.reward_generator('bernoulli', int(arm),i) \n",
        "\n",
        "\n",
        "  "
      ],
      "metadata": {
        "colab": {
          "base_uri": "https://localhost:8080/"
        },
        "outputId": "9d59c6d1-bb6d-41c9-a086-7417062fc355",
        "id": "p6IsiSgAwiE6"
      },
      "execution_count": 15,
      "outputs": [
        {
          "output_type": "stream",
          "name": "stderr",
          "text": [
            "/usr/local/lib/python3.7/dist-packages/ipykernel_launcher.py:44: RuntimeWarning: invalid value encountered in true_divide\n"
          ]
        }
      ]
    },
    {
      "cell_type": "code",
      "source": [
        "#E-t Greedy\n",
        "no_of_games=10000\n",
        "\n",
        "reward_matrix2 = np.zeros((no_of_games,5))\n",
        "action_matrix2 = np.zeros((no_of_games,5))\n",
        "regret_arr2 = np.zeros((1,no_of_games))[0]\n",
        "exp2 = epsilon_Greedy(0.1,no_of_arms=5,no_of_games=10000,is_e_i_greedy=1)\n",
        "for i in range(no_of_games):\n",
        "  arm=exp2.select_arms(reward_matrix2,action_matrix2,i)\n",
        "  action_matrix2[i,int(arm)-1]=1\n",
        "  reward_matrix2[i,int(arm)-1],regret_arr2[i] = exp2.reward_generator('bernoulli', int(arm),i) "
      ],
      "metadata": {
        "colab": {
          "base_uri": "https://localhost:8080/"
        },
        "outputId": "34fdd656-c00a-4254-de9e-2d9fa492e51a",
        "id": "Je5K5dwqwiE7"
      },
      "execution_count": 16,
      "outputs": [
        {
          "output_type": "stream",
          "name": "stderr",
          "text": [
            "/usr/local/lib/python3.7/dist-packages/ipykernel_launcher.py:44: RuntimeWarning: invalid value encountered in true_divide\n"
          ]
        }
      ]
    },
    {
      "cell_type": "code",
      "source": [
        "#UCB\n",
        "reward_matrix3 = np.zeros((no_of_games,5))\n",
        "action_matrix3 = np.zeros((no_of_games,5))\n",
        "regret_arr3 = np.zeros((1,no_of_games))[0]\n",
        "ucb1 = UCB(no_of_arms=5,no_of_games=10000)\n",
        "for i in range(10000):\n",
        "  arm=ucb1.select_arms(reward_matrix3,action_matrix3,i)\n",
        "  action_matrix3[i,int(arm)-1]=1\n",
        "  reward_matrix3[i,int(arm)-1],regret_arr3[i] = ucb1.reward_generator('bernoulli', int(arm),i) \n"
      ],
      "metadata": {
        "colab": {
          "base_uri": "https://localhost:8080/"
        },
        "outputId": "3abae819-84a4-47ae-fd14-f736e315c1e0",
        "id": "kX9w1qtEwiE7"
      },
      "execution_count": 17,
      "outputs": [
        {
          "output_type": "stream",
          "name": "stderr",
          "text": [
            "/usr/local/lib/python3.7/dist-packages/ipykernel_launcher.py:29: RuntimeWarning: invalid value encountered in true_divide\n",
            "/usr/local/lib/python3.7/dist-packages/ipykernel_launcher.py:30: RuntimeWarning: divide by zero encountered in log\n",
            "/usr/local/lib/python3.7/dist-packages/ipykernel_launcher.py:30: RuntimeWarning: invalid value encountered in sqrt\n",
            "/usr/local/lib/python3.7/dist-packages/ipykernel_launcher.py:30: RuntimeWarning: invalid value encountered in true_divide\n",
            "/usr/local/lib/python3.7/dist-packages/ipykernel_launcher.py:30: RuntimeWarning: divide by zero encountered in true_divide\n"
          ]
        }
      ]
    },
    {
      "cell_type": "code",
      "source": [
        "#Softmax\n",
        "\n",
        "reward_matrix4 = np.zeros((no_of_games,5))\n",
        "action_matrix4 = np.zeros((no_of_games,5))\n",
        "regret_arr4 = np.zeros((1,no_of_games))[0]\n",
        "soft = Softmax(temprature=0.01,no_of_arms=5,no_of_games=10000)\n",
        "for i in range(10000):\n",
        "  arm=soft.select_arms(reward_matrix4,action_matrix4,i)\n",
        "  action_matrix4[i,int(arm)-1]=1\n",
        "  reward_matrix4[i,int(arm)-1],regret_arr4[i] = soft.reward_generator('bernoulli', int(arm),i) \n"
      ],
      "metadata": {
        "colab": {
          "base_uri": "https://localhost:8080/"
        },
        "outputId": "12d2d4ba-412a-4b19-f011-51307b487409",
        "id": "X5YG7XAvwiE8"
      },
      "execution_count": 18,
      "outputs": [
        {
          "output_type": "stream",
          "name": "stderr",
          "text": [
            "/usr/local/lib/python3.7/dist-packages/ipykernel_launcher.py:30: RuntimeWarning: invalid value encountered in true_divide\n"
          ]
        }
      ]
    },
    {
      "cell_type": "code",
      "source": [
        "#Thompson-Sampling\n",
        "\n",
        "reward_matrix5 = np.zeros((no_of_games,5))\n",
        "action_matrix5 = np.zeros((no_of_games,5))\n",
        "regret_arr5 = np.zeros((1,no_of_games))[0]\n",
        "TS = Thompson_Sampling(no_of_arms=5,no_of_games=10000)\n",
        "for i in range(10000):\n",
        "  arm=TS.select_arms(reward_matrix5,action_matrix5,i)\n",
        "  action_matrix5[i,int(arm)-1]=1\n",
        "  reward_matrix5[i,int(arm)-1],regret_arr5[i] = TS.reward_generator('bernoulli', int(arm),i) \n"
      ],
      "metadata": {
        "colab": {
          "base_uri": "https://localhost:8080/"
        },
        "outputId": "6efc09f6-b26d-4be4-f88c-422d1fd7701a",
        "id": "V9uFbtfodBVw"
      },
      "execution_count": 19,
      "outputs": [
        {
          "output_type": "stream",
          "name": "stdout",
          "text": [
            "0.0 0.0\n"
          ]
        }
      ]
    },
    {
      "cell_type": "code",
      "source": [
        "# Reinforce\n",
        "Recomp_bernoulli = RC(n_arms=5,no_of_plays=10000)\n",
        "\n",
        "for i in range(10000):\n",
        "  Recomp_bernoulli.update('bernoulli',i)\n",
        "\n",
        "print(f'The learnt preference vector for Bernoulli Rewards is{Recomp_bernoulli.preference}')\n",
        "print(f'The best arm from Algorithm is {np.argmax(Recomp_bernoulli.preference)+1}')\n"
      ],
      "metadata": {
        "colab": {
          "base_uri": "https://localhost:8080/"
        },
        "outputId": "742811f7-9cbc-4abe-a174-2b958da89e88",
        "id": "AhgS8XWjvWQM"
      },
      "execution_count": 20,
      "outputs": [
        {
          "output_type": "stream",
          "name": "stdout",
          "text": [
            "The learnt preference vector for Bernoulli Rewards is[ 0.73807893  5.20109353 -0.65864628 -0.86257951 -1.00676467]\n",
            "The best arm from Algorithm is 2\n"
          ]
        }
      ]
    },
    {
      "cell_type": "code",
      "source": [
        "plt.plot(np.cumsum(regret_arr),'b',label='E-Greedy')\n",
        "plt.plot(np.cumsum(regret_arr2),'r',label='E-t Greedy')\n",
        "plt.plot(np.cumsum(regret_arr3),'g',label='UCB')\n",
        "plt.plot(np.cumsum(regret_arr5),'y',label='Thompson')\n",
        "plt.plot(np.cumsum(Recomp_bernoulli.regret),'c',label='Reinforce')\n",
        "plt.legend(loc='upper left',ncol=1)\n",
        "plt.xlabel('No. of plays')\n",
        "plt.ylabel(\"Cummulative Regret\")\n",
        "plt.grid()"
      ],
      "metadata": {
        "colab": {
          "base_uri": "https://localhost:8080/",
          "height": 279
        },
        "outputId": "ae276b16-f02f-419a-ce92-2b9fe44b2466",
        "id": "crOeq48svWQm"
      },
      "execution_count": 21,
      "outputs": [
        {
          "output_type": "display_data",
          "data": {
            "text/plain": [
              "<Figure size 432x288 with 1 Axes>"
            ],
            "image/png": "[encoded data removed]"
          },
          "metadata": {
            "needs_background": "light"
          }
        }
      ]
    },
    {
      "cell_type": "code",
      "source": [
        "plt.plot(np.cumsum(regret_arr4),'y',label='Softmax')\n",
        "plt.legend()\n",
        "plt.xlabel('No. of plays')\n",
        "plt.ylabel(\"Cummulative Regret\")\n",
        "plt.grid()"
      ],
      "metadata": {
        "colab": {
          "base_uri": "https://localhost:8080/",
          "height": 279
        },
        "outputId": "78fb4b53-cd61-4634-a81b-57f275c38da1",
        "id": "zIlRJSerwiE9"
      },
      "execution_count": 22,
      "outputs": [
        {
          "output_type": "display_data",
          "data": {
            "text/plain": [
              "<Figure size 432x288 with 1 Axes>"
            ],
            "image/png": "[encoded data removed]"
          },
          "metadata": {
            "needs_background": "light"
          }
        }
      ]
    },
    {
      "cell_type": "markdown",
      "source": [
        "## K=10"
      ],
      "metadata": {
        "id": "ePZ96lx0YLdN"
      }
    },
    {
      "cell_type": "code",
      "source": [
        "#E-Greedy\n",
        "no_of_games=10000\n",
        "reward_matrix = np.zeros((no_of_games,10))\n",
        "action_matrix = np.zeros((no_of_games,10))\n",
        "regret_arr = np.zeros((1,no_of_games))[0]\n",
        "exp1 = epsilon_Greedy(0.1,no_of_arms=10,no_of_games=10000,is_e_i_greedy=0)\n",
        "for i in range(no_of_games):\n",
        "  arm=exp1.select_arms(reward_matrix,action_matrix,i)\n",
        "  action_matrix[i,int(arm)-1]=1\n",
        "  reward_matrix[i,int(arm)-1],regret_arr[i] = exp1.reward_generator('bernoulli', int(arm),i) \n",
        "\n",
        "\n",
        "  "
      ],
      "metadata": {
        "colab": {
          "base_uri": "https://localhost:8080/"
        },
        "outputId": "2b23dda4-9934-4bc3-c5a9-28fd26d9699e",
        "id": "S3dBZIGMYOiv"
      },
      "execution_count": 23,
      "outputs": [
        {
          "output_type": "stream",
          "name": "stderr",
          "text": [
            "/usr/local/lib/python3.7/dist-packages/ipykernel_launcher.py:44: RuntimeWarning: invalid value encountered in true_divide\n"
          ]
        }
      ]
    },
    {
      "cell_type": "code",
      "source": [
        "#E-t Greedy\n",
        "no_of_games=10000\n",
        "\n",
        "reward_matrix2 = np.zeros((no_of_games,10))\n",
        "action_matrix2 = np.zeros((no_of_games,10))\n",
        "regret_arr2 = np.zeros((1,no_of_games))[0]\n",
        "exp2 = epsilon_Greedy(0.1,no_of_arms=10,no_of_games=10000,is_e_i_greedy=1)\n",
        "for i in range(no_of_games):\n",
        "  arm=exp2.select_arms(reward_matrix2,action_matrix2,i)\n",
        "  action_matrix2[i,int(arm)-1]=1\n",
        "  reward_matrix2[i,int(arm)-1],regret_arr2[i] = exp2.reward_generator('bernoulli', int(arm),i) "
      ],
      "metadata": {
        "colab": {
          "base_uri": "https://localhost:8080/"
        },
        "outputId": "61bb9d91-3174-40d8-e314-c9941abd455d",
        "id": "4meCS-rkYOjN"
      },
      "execution_count": 24,
      "outputs": [
        {
          "output_type": "stream",
          "name": "stderr",
          "text": [
            "/usr/local/lib/python3.7/dist-packages/ipykernel_launcher.py:44: RuntimeWarning: invalid value encountered in true_divide\n"
          ]
        }
      ]
    },
    {
      "cell_type": "code",
      "source": [
        "#UCB\n",
        "reward_matrix3 = np.zeros((no_of_games,10))\n",
        "action_matrix3 = np.zeros((no_of_games,10))\n",
        "regret_arr3 = np.zeros((1,no_of_games))[0]\n",
        "ucb1 = UCB(no_of_arms=10,no_of_games=10000)\n",
        "for i in range(10000):\n",
        "  arm=ucb1.select_arms(reward_matrix3,action_matrix3,i)\n",
        "  action_matrix3[i,int(arm)-1]=1\n",
        "  reward_matrix3[i,int(arm)-1],regret_arr3[i] = ucb1.reward_generator('bernoulli', int(arm),i) \n"
      ],
      "metadata": {
        "colab": {
          "base_uri": "https://localhost:8080/"
        },
        "outputId": "3034ba13-e494-4b34-f377-fd9e77051b24",
        "id": "KKEsPM_nYOjO"
      },
      "execution_count": 25,
      "outputs": [
        {
          "output_type": "stream",
          "name": "stderr",
          "text": [
            "/usr/local/lib/python3.7/dist-packages/ipykernel_launcher.py:29: RuntimeWarning: invalid value encountered in true_divide\n",
            "/usr/local/lib/python3.7/dist-packages/ipykernel_launcher.py:30: RuntimeWarning: divide by zero encountered in log\n",
            "/usr/local/lib/python3.7/dist-packages/ipykernel_launcher.py:30: RuntimeWarning: invalid value encountered in sqrt\n",
            "/usr/local/lib/python3.7/dist-packages/ipykernel_launcher.py:30: RuntimeWarning: invalid value encountered in true_divide\n",
            "/usr/local/lib/python3.7/dist-packages/ipykernel_launcher.py:30: RuntimeWarning: divide by zero encountered in true_divide\n"
          ]
        }
      ]
    },
    {
      "cell_type": "code",
      "source": [
        "#Softmax\n",
        "\n",
        "reward_matrix4 = np.zeros((no_of_games,10))\n",
        "action_matrix4 = np.zeros((no_of_games,10))\n",
        "regret_arr4 = np.zeros((1,no_of_games))[0]\n",
        "soft = Softmax(temprature=0.05,no_of_arms=10,no_of_games=10000)\n",
        "for i in range(10000):\n",
        "  arm=soft.select_arms(reward_matrix4,action_matrix4,i)\n",
        "  action_matrix4[i,int(arm)-1]=1\n",
        "  reward_matrix4[i,int(arm)-1],regret_arr4[i] = soft.reward_generator('bernoulli', int(arm),i) \n"
      ],
      "metadata": {
        "colab": {
          "base_uri": "https://localhost:8080/"
        },
        "outputId": "2fbf0627-7cf6-469d-fb28-0f582471bd31",
        "id": "qdEAgOjzYOjP"
      },
      "execution_count": 26,
      "outputs": [
        {
          "output_type": "stream",
          "name": "stderr",
          "text": [
            "/usr/local/lib/python3.7/dist-packages/ipykernel_launcher.py:30: RuntimeWarning: invalid value encountered in true_divide\n"
          ]
        }
      ]
    },
    {
      "cell_type": "code",
      "source": [
        "#Thompson-Sampling\n",
        "\n",
        "reward_matrix5 = np.zeros((no_of_games,10))\n",
        "action_matrix5 = np.zeros((no_of_games,10))\n",
        "regret_arr5 = np.zeros((1,no_of_games))[0]\n",
        "TS = Thompson_Sampling(no_of_arms=10,no_of_games=10000)\n",
        "for i in range(10000):\n",
        "  arm=TS.select_arms(reward_matrix5,action_matrix5,i)\n",
        "  action_matrix5[i,int(arm)-1]=1\n",
        "  reward_matrix5[i,int(arm)-1],regret_arr5[i] = TS.reward_generator('bernoulli', int(arm),i) \n"
      ],
      "metadata": {
        "colab": {
          "base_uri": "https://localhost:8080/"
        },
        "outputId": "e0705d2b-009a-427b-d1d3-dfc2273b1162",
        "id": "BcC8EIrKduJ2"
      },
      "execution_count": 27,
      "outputs": [
        {
          "output_type": "stream",
          "name": "stdout",
          "text": [
            "0.0 0.0\n"
          ]
        }
      ]
    },
    {
      "cell_type": "code",
      "source": [
        "# Reinforce\n",
        "Recomp_bernoulli = RC(n_arms=10,no_of_plays=10000)\n",
        "\n",
        "for i in range(10000):\n",
        "  Recomp_bernoulli.update('bernoulli',i)\n",
        "\n",
        "print(f'The learnt preference vector for Bernoulli Rewards is{Recomp_bernoulli.preference}')\n",
        "print(f'The best arm from Algorithm is {np.argmax(Recomp_bernoulli.preference)+1}')\n"
      ],
      "metadata": {
        "colab": {
          "base_uri": "https://localhost:8080/"
        },
        "outputId": "9e5f49fa-f6aa-4092-dd25-4c5e1bba6bb7",
        "id": "cIH3qh9OwS90"
      },
      "execution_count": 28,
      "outputs": [
        {
          "output_type": "stream",
          "name": "stdout",
          "text": [
            "The learnt preference vector for Bernoulli Rewards is[ 0.83280043  6.24214333 -0.25500927 -0.50251452 -0.6371477   0.47925723\n",
            " -0.01226775 -0.56674575 -0.17444565 -0.80861034]\n",
            "The best arm from Algorithm is 2\n"
          ]
        }
      ]
    },
    {
      "cell_type": "code",
      "source": [
        "plt.plot(np.cumsum(regret_arr),'b',label='E-Greedy')\n",
        "plt.plot(np.cumsum(regret_arr2),'r',label='E-t Greedy')\n",
        "plt.plot(np.cumsum(regret_arr3),'g',label='UCB')\n",
        "plt.plot(np.cumsum(regret_arr5),'y',label='Thompson')\n",
        "plt.plot(np.cumsum(Recomp_bernoulli.regret),'c',label='Reinforce')\n",
        "plt.legend(loc='upper left',ncol=1)\n",
        "plt.xlabel('No. of plays')\n",
        "plt.ylabel(\"Cummulative Regret\")\n",
        "plt.grid()"
      ],
      "metadata": {
        "colab": {
          "base_uri": "https://localhost:8080/",
          "height": 279
        },
        "outputId": "03dbde19-e33e-4668-a9ca-1fb25619e0f8",
        "id": "H72i-5W-wS98"
      },
      "execution_count": 29,
      "outputs": [
        {
          "output_type": "display_data",
          "data": {
            "text/plain": [
              "<Figure size 432x288 with 1 Axes>"
            ],
            "image/png": "[encoded data removed]"
          },
          "metadata": {
            "needs_background": "light"
          }
        }
      ]
    },
    {
      "cell_type": "code",
      "source": [
        "plt.plot(np.cumsum(regret_arr4),'y',label='Softmax')\n",
        "plt.legend()\n",
        "plt.xlabel('No. of plays')\n",
        "plt.ylabel(\"Cummulative Regret\")\n",
        "plt.grid()"
      ],
      "metadata": {
        "colab": {
          "base_uri": "https://localhost:8080/",
          "height": 279
        },
        "outputId": "339f6bac-7fa5-47b9-fdf4-28dfb21cc567",
        "id": "mqo4GEyOYOjQ"
      },
      "execution_count": 30,
      "outputs": [
        {
          "output_type": "display_data",
          "data": {
            "text/plain": [
              "<Figure size 432x288 with 1 Axes>"
            ],
            "image/png": "[encoded data removed]"
          },
          "metadata": {
            "needs_background": "light"
          }
        }
      ]
    },
    {
      "cell_type": "markdown",
      "source": [
        "# Normal Distribution rewards"
      ],
      "metadata": {
        "id": "gbef16n4vtz4"
      }
    },
    {
      "cell_type": "code",
      "source": [
        "class epsilon_Greedy:\n",
        "    '''Choose arms equally likely with probability epsilon\n",
        "       Choose greedy stratergy with probability 1-epsilon'''\n",
        "    def __init__(self,epsilon,no_of_arms,no_of_games,is_e_i_greedy):\n",
        "        self.epsilon=epsilon\n",
        "        self.no_of_arms = no_of_arms\n",
        "        self.no_of_games = no_of_games\n",
        "        #self.reward_matrix = np.zeros((self.no_of_games,self.no_of_arms))\n",
        "        #self.action_matrix = np.zeros((self.no_of_games,self.no_of_arms))\n",
        "        self.mean=[0.50,0.57, 0.32, 0.25,0.2,0.45,0.35, 0.20, 0.31,0.1]\n",
        "        if (self.no_of_arms==10):\n",
        "          self.arm_win_probs = np.array([0.50,0.57, 0.32, 0.25,0.2,0.45,0.35, 0.20, 0.31,0.1])#np.random.uniform(0,1,self.no_of_arms)\n",
        "        if (self.no_of_arms==5):\n",
        "          self.arm_win_probs = np.array([0.50,0.57,0.32,0.25,0.2])\n",
        "        if (self.no_of_arms==2):\n",
        "          self.arm_win_probs = np.array([0.5,0.3])  \n",
        "        self.second_best = 0.35\n",
        "        self.best_arm = np.argmax(self.arm_win_probs)+1\n",
        "        self.best_mean = np.max(self.arm_win_probs)\n",
        "        #self.regret = np.zeros((1,no_of_games))[0]\n",
        "        if is_e_i_greedy:\n",
        "          self.e_i_greedy=True\n",
        "        else:\n",
        "          self.e_i_greedy=False  \n",
        "\n",
        "    def reward_generator(self,name,arm_id,i):\n",
        "        if (name=='guassian'):\n",
        "            #prob = np.round(self.arm_win_probs[arm_id-1],4)\n",
        "            prob = self.arm_win_probs[arm_id-1]\n",
        "            #print(type(prob))\n",
        "            #reward=np.random.choice([1,0],p=[prob,1-prob])\n",
        "            reward = np.random.normal(self.mean[arm_id -1],1,1) \n",
        "            #reward=np.random.binomial(1, prob)    \n",
        "            regret=self.best_mean-self.arm_win_probs[arm_id-1]      \n",
        "        return reward,regret      \n",
        "\n",
        "    def select_arms(self,reward_mat,action_mat,i):\n",
        "        r = np.random.random()\n",
        "        if self.e_i_greedy:\n",
        "          self.epsilon = np.min([1,((0.2*self.no_of_arms)/(((self.best_mean-0.35)**2)*(i+1)))])\n",
        "        net_reward = reward_mat.sum(axis=0)\n",
        "        per_arm_total = action_mat.sum(axis=0)\n",
        "        empirical_mean = net_reward/per_arm_total\n",
        "        if r<self.epsilon:\n",
        "          #arm=np.random.choice(np.delete(list(range(N_BANDITS)), np.argmax(success_ratio)))\n",
        "          arm= np.random.choice(list(range(1,self.no_of_arms+1)))   \n",
        "          return arm     \n",
        "              \n",
        "        else:\n",
        "          #Select Arm with highest empirical mean reward\n",
        "          arm = np.argmax(empirical_mean)+1\n",
        "          return arm  \n",
        "        #self.action_matrix[i,int(arm)-1] = 1\n",
        "        #self.reward_matrix[i,int(arm)-1] = self.reward_generator('guassian', int(arm))\n",
        "\n",
        "          \n",
        "        \n",
        "        \n",
        "    #def get_output(self):\n",
        "    #    return self.action_matrix,self.reward_matrix,self.best_arm,self.best_mean,self.regret         \n",
        "      \n"
      ],
      "metadata": {
        "id": "zWP4z8sxVY2K"
      },
      "execution_count": 31,
      "outputs": []
    },
    {
      "cell_type": "code",
      "source": [
        "class UCB:\n",
        "    \n",
        "    def __init__(self,no_of_arms,no_of_games):\n",
        "        self.no_of_arms = no_of_arms\n",
        "        self.no_of_games = no_of_games\n",
        "        #self.reward_matrix = np.zeros((self.no_of_games,self.no_of_arms))\n",
        "        #self.action_matrix = np.zeros((self.no_of_games,self.no_of_arms))\n",
        "        self.mean=[0.50,0.57, 0.32, 0.25,0.2,0.45,0.35, 0.20, 0.31,0.1]\n",
        "        self.arm_win_probs = np.array([0.50,0.57, 0.32, 0.25,0.2,0.45,0.35, 0.20, 0.31,0.1])#np.random.uniform(0,1,self.no_of_arms)\n",
        "        self.second_best = 0.35\n",
        "        self.best_arm = np.argmax(self.arm_win_probs)+1\n",
        "        self.best_mean = np.max(self.arm_win_probs)\n",
        "        #self.regret = []\n",
        "\n",
        "    def reward_generator(self,name,arm_id,i):\n",
        "        if (name=='guassian'):\n",
        "            #prob = np.round(self.arm_win_probs[arm_id-1],4)\n",
        "            prob = self.arm_win_probs[arm_id-1]\n",
        "            #print(type(prob))\n",
        "            #reward=np.random.choice([1,0],p=[prob,1-prob]) \n",
        "            reward = np.random.normal(self.mean[arm_id -1],1,1) \n",
        "            #reward=np.random.binomial(1, prob)    \n",
        "            regret=self.best_mean-self.arm_win_probs[arm_id-1]      \n",
        "        return reward,regret    \n",
        "\n",
        "    def select_arms(self,reward_mat,action_mat,i):\n",
        "      \n",
        "        net_reward = reward_mat.sum(axis=0)\n",
        "        per_arm_total = action_mat.sum(axis=0)\n",
        "        empirical_mean = net_reward/per_arm_total\n",
        "        bias = np.sqrt(2*np.log(np.sum(per_arm_total))/per_arm_total)\n",
        "        return np.argmax(empirical_mean+bias)+1\n",
        "               \n"
      ],
      "metadata": {
        "id": "CgfjPvGqdSWB"
      },
      "execution_count": 32,
      "outputs": []
    },
    {
      "cell_type": "code",
      "source": [
        "class Softmax:\n",
        "    \n",
        "    def __init__(self,temprature,no_of_arms,no_of_games):\n",
        "        self.no_of_arms = no_of_arms\n",
        "        self.no_of_games = no_of_games\n",
        "        self.temp = temprature\n",
        "        #self.reward_matrix = np.zeros((self.no_of_games,self.no_of_arms))\n",
        "        #self.action_matrix = np.zeros((self.no_of_games,self.no_of_arms))\n",
        "        self.mean=[0.50,0.57, 0.32, 0.25,0.2,0.45,0.35, 0.20, 0.31,0.1]\n",
        "        self.arm_win_probs = np.array([0.50,0.57, 0.32, 0.25,0.2,0.45,0.35, 0.20, 0.31,0.1])#np.random.uniform(0,1,self.no_of_arms)\n",
        "        self.second_best = 0.35\n",
        "        self.best_arm = np.argmax(self.arm_win_probs)+1\n",
        "        self.best_mean = np.max(self.arm_win_probs)\n",
        "        #self.regret = []\n",
        "\n",
        "    def reward_generator(self,name,arm_id,i):\n",
        "        if (name=='guassian'):\n",
        "            #prob = np.round(self.arm_win_probs[arm_id-1],4)\n",
        "            prob = self.arm_win_probs[arm_id-1]\n",
        "            #print(type(prob))\n",
        "            #reward=np.random.choice([1,0],p=[prob,1-prob]) \n",
        "            reward=np.random.normal(self.mean[arm_id -1],1,1) \n",
        "            #reward=np.random.binomial(1, prob)    \n",
        "            regret=self.best_mean-self.arm_win_probs[arm_id-1]      \n",
        "        return reward,regret    \n",
        "\n",
        "    def select_arms(self,reward_mat,action_mat,i):\n",
        "      \n",
        "        net_reward = reward_mat.sum(axis=0)\n",
        "        per_arm_total = action_mat.sum(axis=0)\n",
        "        empirical_mean = net_reward/per_arm_total\n",
        "        denom = np.sum(np.exp(empirical_mean/self.temp))\n",
        "        val = np.exp(empirical_mean)/denom\n",
        "        return np.argmax(val)+1\n",
        "               \n"
      ],
      "metadata": {
        "id": "cjrayfsuJjnR"
      },
      "execution_count": 33,
      "outputs": []
    },
    {
      "cell_type": "code",
      "source": [
        "class Thompson_Sampling:\n",
        "    \n",
        "    def __init__(self,no_of_arms,no_of_games):\n",
        "        self.no_of_arms = no_of_arms\n",
        "        self.no_of_games = no_of_games\n",
        "        #self.reward_matrix = np.zeros((self.no_of_games,self.no_of_arms))\n",
        "        #self.action_matrix = np.zeros((self.no_of_games,self.no_of_arms))\n",
        "        self.mean=[0.50,0.57, 0.32, 0.25,0.2,0.45,0.35, 0.20, 0.31,0.1]\n",
        "        self.arm_win_probs = np.array([0.50,0.57, 0.32, 0.25,0.2,0.45,0.35, 0.20, 0.31,0.1])#np.random.uniform(0,1,self.no_of_arms)\n",
        "        self.second_best = 0.35\n",
        "        self.best_arm = np.argmax(self.arm_win_probs)+1\n",
        "        self.best_mean = np.max(self.arm_win_probs)\n",
        "        #self.regret = []\n",
        "\n",
        "    def reward_generator(self,name,arm_id,i):\n",
        "        if (name=='guassian'):\n",
        "            #prob = np.round(self.arm_win_probs[arm_id-1],4)\n",
        "            prob = self.arm_win_probs[arm_id-1]\n",
        "            #print(type(prob))\n",
        "            #reward=np.random.choice([1,0],p=[prob,1-prob]) \n",
        "            reward=np.random.normal(self.mean[arm_id -1],1,1) \n",
        "            #reward=np.random.binomial(1, prob)    \n",
        "            regret=self.best_mean-self.arm_win_probs[arm_id-1]      \n",
        "        return reward,regret    \n",
        "\n",
        "    def select_arms(self,reward_mat,action_mat,i):\n",
        "      \n",
        "        net_reward = reward_mat.sum(axis=0) #Computes sum of rewards for each arm(0 or 1)\n",
        "        per_arm_total = action_mat.sum(axis=0)#Computes number of times each arm was picked(0 or 1)\n",
        "        loss_count = per_arm_total-net_reward# Computes number of times each arm lost\n",
        "        if i==0:\n",
        "          print(net_reward[0],loss_count[0])\n",
        "        \n",
        "        ''' Beta distribution characterized by alpha and beta\n",
        "        Every time it wins alpha increments else beta increments'''\n",
        "        #arms = [np.random.beta(1+np.count_nonzero(net_reward[j]),1+np.count_nonzero(loss_count[j])) for j in range(self.no_of_arms)]\n",
        "        arms=[np.random.normal(net_reward[j]/per_arm_total[j],np.sqrt(per_arm_total[j])) for j in range(self.no_of_arms)]\n",
        "        \n",
        "        return np.argmax(arms)+1\n",
        "               \n"
      ],
      "metadata": {
        "id": "8-R1q13GloL_"
      },
      "execution_count": 34,
      "outputs": []
    },
    {
      "cell_type": "markdown",
      "source": [
        "## K=2"
      ],
      "metadata": {
        "id": "y-YQyHD-voOV"
      }
    },
    {
      "cell_type": "code",
      "source": [
        "#E-Greedy\n",
        "no_of_games=10000\n",
        "reward_matrix = np.zeros((no_of_games,2))\n",
        "action_matrix = np.zeros((no_of_games,2))\n",
        "regret_arr = np.zeros((1,no_of_games))[0]\n",
        "exp1 = epsilon_Greedy(0.1,no_of_arms=2,no_of_games=10000,is_e_i_greedy=0)\n",
        "for i in range(no_of_games):\n",
        "  arm=exp1.select_arms(reward_matrix,action_matrix,i)\n",
        "  action_matrix[i,int(arm)-1]=1\n",
        "  reward_matrix[i,int(arm)-1],regret_arr[i] = exp1.reward_generator('guassian', int(arm),i) \n",
        "\n",
        "\n",
        "  "
      ],
      "metadata": {
        "colab": {
          "base_uri": "https://localhost:8080/"
        },
        "outputId": "2c03aaff-c64a-415e-956b-20378b299f9a",
        "id": "g00FgrZYK7CB"
      },
      "execution_count": 35,
      "outputs": [
        {
          "output_type": "stream",
          "name": "stderr",
          "text": [
            "/usr/local/lib/python3.7/dist-packages/ipykernel_launcher.py:38: RuntimeWarning: invalid value encountered in true_divide\n"
          ]
        }
      ]
    },
    {
      "cell_type": "code",
      "source": [
        "#E-t Greedy\n",
        "no_of_games=10000\n",
        "reward_matrix2 = np.zeros((no_of_games,2))\n",
        "action_matrix2 = np.zeros((no_of_games,2))\n",
        "regret_arr2 = np.zeros((1,no_of_games))[0]\n",
        "exp2 = epsilon_Greedy(0.1,no_of_arms=2,no_of_games=10000,is_e_i_greedy=1)\n",
        "for i in range(no_of_games):\n",
        "  arm=exp2.select_arms(reward_matrix2,action_matrix2,i)\n",
        "  action_matrix2[i,int(arm)-1]=1\n",
        "  reward_matrix2[i,int(arm)-1],regret_arr2[i] = exp2.reward_generator('guassian', int(arm),i) "
      ],
      "metadata": {
        "colab": {
          "base_uri": "https://localhost:8080/"
        },
        "outputId": "08521bd9-7776-4e68-8871-9a58ae10f6ce",
        "id": "bYZ7BjuPK7CP"
      },
      "execution_count": 36,
      "outputs": [
        {
          "output_type": "stream",
          "name": "stderr",
          "text": [
            "/usr/local/lib/python3.7/dist-packages/ipykernel_launcher.py:38: RuntimeWarning: invalid value encountered in true_divide\n"
          ]
        }
      ]
    },
    {
      "cell_type": "code",
      "source": [
        "#UCB\n",
        "reward_matrix3 = np.zeros((no_of_games,2))\n",
        "action_matrix3 = np.zeros((no_of_games,2))\n",
        "regret_arr3 = np.zeros((1,no_of_games))[0]\n",
        "ucb1 = UCB(no_of_arms=2,no_of_games=10000)\n",
        "for i in range(10000):\n",
        "  arm=ucb1.select_arms(reward_matrix3,action_matrix3,i)\n",
        "  action_matrix3[i,int(arm)-1]=1\n",
        "  reward_matrix3[i,int(arm)-1],regret_arr3[i] = ucb1.reward_generator('guassian', int(arm),i) \n"
      ],
      "metadata": {
        "colab": {
          "base_uri": "https://localhost:8080/"
        },
        "outputId": "fc38b37e-0b93-484f-a90a-0e1344afcd1e",
        "id": "Twc9N84cK7CQ"
      },
      "execution_count": 37,
      "outputs": [
        {
          "output_type": "stream",
          "name": "stderr",
          "text": [
            "/usr/local/lib/python3.7/dist-packages/ipykernel_launcher.py:30: RuntimeWarning: invalid value encountered in true_divide\n",
            "/usr/local/lib/python3.7/dist-packages/ipykernel_launcher.py:31: RuntimeWarning: divide by zero encountered in log\n",
            "/usr/local/lib/python3.7/dist-packages/ipykernel_launcher.py:31: RuntimeWarning: invalid value encountered in sqrt\n",
            "/usr/local/lib/python3.7/dist-packages/ipykernel_launcher.py:31: RuntimeWarning: invalid value encountered in true_divide\n"
          ]
        }
      ]
    },
    {
      "cell_type": "code",
      "source": [
        "#Softmax\n",
        "\n",
        "reward_matrix4 = np.zeros((no_of_games,2))\n",
        "action_matrix4 = np.zeros((no_of_games,2))\n",
        "regret_arr4 = np.zeros((1,no_of_games))[0]\n",
        "soft = Softmax(temprature=0.01,no_of_arms=2,no_of_games=10000)\n",
        "for i in range(10000):\n",
        "  arm=soft.select_arms(reward_matrix4,action_matrix4,i)\n",
        "  action_matrix4[i,int(arm)-1]=1\n",
        "  reward_matrix4[i,int(arm)-1],regret_arr4[i] = soft.reward_generator('guassian', int(arm),i) \n"
      ],
      "metadata": {
        "colab": {
          "base_uri": "https://localhost:8080/"
        },
        "outputId": "fc149738-9d89-4a7a-b0b8-dbb6694f2b08",
        "id": "G3-zHacfK7CR"
      },
      "execution_count": 38,
      "outputs": [
        {
          "output_type": "stream",
          "name": "stderr",
          "text": [
            "/usr/local/lib/python3.7/dist-packages/ipykernel_launcher.py:31: RuntimeWarning: invalid value encountered in true_divide\n"
          ]
        }
      ]
    },
    {
      "cell_type": "code",
      "source": [
        "#Thompson-Sampling\n",
        "\n",
        "reward_matrix5 = np.zeros((no_of_games,2))\n",
        "action_matrix5 = np.zeros((no_of_games,2))\n",
        "regret_arr5 = np.zeros((1,no_of_games))[0]\n",
        "TS = Thompson_Sampling(no_of_arms=2,no_of_games=10000)\n",
        "for i in range(10000):\n",
        "  arm=TS.select_arms(reward_matrix5,action_matrix5,i)\n",
        "  action_matrix5[i,int(arm)-1]=1\n",
        "  reward_matrix5[i,int(arm)-1],regret_arr5[i] = TS.reward_generator('guassian', int(arm),i) \n"
      ],
      "metadata": {
        "colab": {
          "base_uri": "https://localhost:8080/"
        },
        "outputId": "3432b64c-955b-4fff-8842-577a1bee94bb",
        "id": "XVch9i5CK7CR"
      },
      "execution_count": 39,
      "outputs": [
        {
          "output_type": "stream",
          "name": "stdout",
          "text": [
            "0.0 0.0\n"
          ]
        },
        {
          "output_type": "stream",
          "name": "stderr",
          "text": [
            "/usr/local/lib/python3.7/dist-packages/ipykernel_launcher.py:37: RuntimeWarning: invalid value encountered in double_scalars\n"
          ]
        }
      ]
    },
    {
      "cell_type": "code",
      "source": [
        "# Reinforce\n",
        "Recomp_bernoulli = RC(n_arms=2,no_of_plays=10000)\n",
        "\n",
        "for i in range(10000):\n",
        "  Recomp_bernoulli.update('normy',i)\n",
        "\n",
        "print(f'The learnt preference vector for Normal Rewards is{Recomp_bernoulli.preference}')\n",
        "print(f'The best arm from Algorithm is {np.argmax(Recomp_bernoulli.preference)+1}')\n"
      ],
      "metadata": {
        "colab": {
          "base_uri": "https://localhost:8080/"
        },
        "outputId": "0a2d313d-1b41-44d7-a7a4-e3a3c245353f",
        "id": "kfyTVufZ1fsd"
      },
      "execution_count": 40,
      "outputs": [
        {
          "output_type": "stream",
          "name": "stdout",
          "text": [
            "The learnt preference vector for Normal Rewards is[-1.80746707  1.50622999]\n",
            "The best arm from Algorithm is 2\n"
          ]
        }
      ]
    },
    {
      "cell_type": "code",
      "source": [
        "plt.plot(np.cumsum(regret_arr),'b',label='E-Greedy')\n",
        "plt.plot(np.cumsum(regret_arr2),'r',label='E-t Greedy')\n",
        "plt.plot(np.cumsum(regret_arr3),'g',label='UCB')\n",
        "plt.plot(np.cumsum(regret_arr5),'y',label='Thompson')\n",
        "plt.plot(np.cumsum(Recomp_bernoulli.regret),'c',label='Reinforce')\n",
        "plt.legend(loc='upper left',ncol=1)\n",
        "plt.xlabel('No. of plays')\n",
        "plt.ylabel(\"Cummulative Regret\")\n",
        "plt.grid()"
      ],
      "metadata": {
        "colab": {
          "base_uri": "https://localhost:8080/",
          "height": 279
        },
        "outputId": "f6de6d45-d8a1-40f1-f693-8c94ef26b633",
        "id": "coz0mtwS1fsi"
      },
      "execution_count": 41,
      "outputs": [
        {
          "output_type": "display_data",
          "data": {
            "text/plain": [
              "<Figure size 432x288 with 1 Axes>"
            ],
            "image/png": "[encoded data removed]"
          },
          "metadata": {
            "needs_background": "light"
          }
        }
      ]
    },
    {
      "cell_type": "code",
      "source": [
        "plt.plot(np.cumsum(regret_arr4),'y',label='Softmax')\n",
        "plt.xlabel('No. of plays')\n",
        "plt.ylabel(\"Cummulative Regret\")\n",
        "plt.legend()\n",
        "plt.grid()"
      ],
      "metadata": {
        "colab": {
          "base_uri": "https://localhost:8080/",
          "height": 279
        },
        "outputId": "480cf3d4-3777-4a70-8d72-edb502c854cb",
        "id": "SDSmOWg7K7CT"
      },
      "execution_count": 42,
      "outputs": [
        {
          "output_type": "display_data",
          "data": {
            "text/plain": [
              "<Figure size 432x288 with 1 Axes>"
            ],
            "image/png": "[encoded data removed]"
          },
          "metadata": {
            "needs_background": "light"
          }
        }
      ]
    },
    {
      "cell_type": "code",
      "source": [
        ""
      ],
      "metadata": {
        "id": "-6JclzETK7CT"
      },
      "execution_count": 42,
      "outputs": []
    },
    {
      "cell_type": "markdown",
      "source": [
        "## K=5"
      ],
      "metadata": {
        "id": "2CCJkaBTK3Cg"
      }
    },
    {
      "cell_type": "code",
      "source": [
        "#E-Greedy\n",
        "no_of_games=10000\n",
        "reward_matrix = np.zeros((no_of_games,5))\n",
        "action_matrix = np.zeros((no_of_games,5))\n",
        "regret_arr = np.zeros((1,no_of_games))[0]\n",
        "exp1 = epsilon_Greedy(0.1,no_of_arms=5,no_of_games=10000,is_e_i_greedy=0)\n",
        "for i in range(no_of_games):\n",
        "  arm=exp1.select_arms(reward_matrix,action_matrix,i)\n",
        "  action_matrix[i,int(arm)-1]=1\n",
        "  reward_matrix[i,int(arm)-1],regret_arr[i] = exp1.reward_generator('guassian', int(arm),i) \n",
        "\n",
        "\n",
        "  "
      ],
      "metadata": {
        "colab": {
          "base_uri": "https://localhost:8080/"
        },
        "id": "6FNLcQFgViL3",
        "outputId": "b6c8dde7-d3a9-48e5-9eac-edd4cb20629d"
      },
      "execution_count": 43,
      "outputs": [
        {
          "output_type": "stream",
          "name": "stderr",
          "text": [
            "/usr/local/lib/python3.7/dist-packages/ipykernel_launcher.py:38: RuntimeWarning: invalid value encountered in true_divide\n"
          ]
        }
      ]
    },
    {
      "cell_type": "code",
      "source": [
        "#E-t Greedy\n",
        "no_of_games=10000\n",
        "reward_matrix2 = np.zeros((no_of_games,5))\n",
        "action_matrix2 = np.zeros((no_of_games,5))\n",
        "regret_arr2 = np.zeros((1,no_of_games))[0]\n",
        "exp2 = epsilon_Greedy(0.1,no_of_arms=5,no_of_games=10000,is_e_i_greedy=1)\n",
        "for i in range(no_of_games):\n",
        "  arm=exp2.select_arms(reward_matrix2,action_matrix2,i)\n",
        "  action_matrix2[i,int(arm)-1]=1\n",
        "  reward_matrix2[i,int(arm)-1],regret_arr2[i] = exp2.reward_generator('guassian', int(arm),i) "
      ],
      "metadata": {
        "colab": {
          "base_uri": "https://localhost:8080/"
        },
        "id": "7QXzW2hKuZRd",
        "outputId": "c6f567b6-4893-4c97-e62c-6b96d706cb18"
      },
      "execution_count": 44,
      "outputs": [
        {
          "output_type": "stream",
          "name": "stderr",
          "text": [
            "/usr/local/lib/python3.7/dist-packages/ipykernel_launcher.py:38: RuntimeWarning: invalid value encountered in true_divide\n"
          ]
        }
      ]
    },
    {
      "cell_type": "code",
      "source": [
        "#UCB\n",
        "reward_matrix3 = np.zeros((no_of_games,5))\n",
        "action_matrix3 = np.zeros((no_of_games,5))\n",
        "regret_arr3 = np.zeros((1,no_of_games))[0]\n",
        "ucb1 = UCB(no_of_arms=5,no_of_games=10000)\n",
        "for i in range(10000):\n",
        "  arm=ucb1.select_arms(reward_matrix3,action_matrix3,i)\n",
        "  action_matrix3[i,int(arm)-1]=1\n",
        "  reward_matrix3[i,int(arm)-1],regret_arr3[i] = ucb1.reward_generator('guassian', int(arm),i) \n"
      ],
      "metadata": {
        "colab": {
          "base_uri": "https://localhost:8080/"
        },
        "id": "_QCFP45Oe_wZ",
        "outputId": "4241e33e-702b-4a5a-f5c0-f43e8efd87a3"
      },
      "execution_count": 45,
      "outputs": [
        {
          "output_type": "stream",
          "name": "stderr",
          "text": [
            "/usr/local/lib/python3.7/dist-packages/ipykernel_launcher.py:30: RuntimeWarning: invalid value encountered in true_divide\n",
            "/usr/local/lib/python3.7/dist-packages/ipykernel_launcher.py:31: RuntimeWarning: divide by zero encountered in log\n",
            "/usr/local/lib/python3.7/dist-packages/ipykernel_launcher.py:31: RuntimeWarning: invalid value encountered in sqrt\n",
            "/usr/local/lib/python3.7/dist-packages/ipykernel_launcher.py:31: RuntimeWarning: invalid value encountered in true_divide\n",
            "/usr/local/lib/python3.7/dist-packages/ipykernel_launcher.py:31: RuntimeWarning: divide by zero encountered in true_divide\n"
          ]
        }
      ]
    },
    {
      "cell_type": "code",
      "source": [
        "#Softmax\n",
        "\n",
        "reward_matrix4 = np.zeros((no_of_games,5))\n",
        "action_matrix4 = np.zeros((no_of_games,5))\n",
        "regret_arr4 = np.zeros((1,no_of_games))[0]\n",
        "soft = Softmax(temprature=0.01,no_of_arms=5,no_of_games=10000)\n",
        "for i in range(10000):\n",
        "  arm=soft.select_arms(reward_matrix4,action_matrix4,i)\n",
        "  action_matrix4[i,int(arm)-1]=1\n",
        "  reward_matrix4[i,int(arm)-1],regret_arr4[i] = soft.reward_generator('guassian', int(arm),i) \n"
      ],
      "metadata": {
        "colab": {
          "base_uri": "https://localhost:8080/"
        },
        "id": "qc89emj1KIQm",
        "outputId": "eac87afb-2c93-4992-a754-60d180051790"
      },
      "execution_count": 46,
      "outputs": [
        {
          "output_type": "stream",
          "name": "stderr",
          "text": [
            "/usr/local/lib/python3.7/dist-packages/ipykernel_launcher.py:31: RuntimeWarning: invalid value encountered in true_divide\n"
          ]
        }
      ]
    },
    {
      "cell_type": "code",
      "source": [
        "#Thompson-Sampling\n",
        "\n",
        "reward_matrix5 = np.zeros((no_of_games,5))\n",
        "action_matrix5 = np.zeros((no_of_games,5))\n",
        "regret_arr5 = np.zeros((1,no_of_games))[0]\n",
        "TS = Thompson_Sampling(no_of_arms=5,no_of_games=10000)\n",
        "for i in range(10000):\n",
        "  arm=TS.select_arms(reward_matrix5,action_matrix5,i)\n",
        "  action_matrix5[i,int(arm)-1]=1\n",
        "  reward_matrix5[i,int(arm)-1],regret_arr5[i] = TS.reward_generator('guassian', int(arm),i) \n"
      ],
      "metadata": {
        "colab": {
          "base_uri": "https://localhost:8080/"
        },
        "id": "eYPF9s7EPTtU",
        "outputId": "7a487a4c-4dc8-49b7-bbca-541eaa578d57"
      },
      "execution_count": 47,
      "outputs": [
        {
          "output_type": "stream",
          "name": "stdout",
          "text": [
            "0.0 0.0\n"
          ]
        },
        {
          "output_type": "stream",
          "name": "stderr",
          "text": [
            "/usr/local/lib/python3.7/dist-packages/ipykernel_launcher.py:37: RuntimeWarning: invalid value encountered in double_scalars\n"
          ]
        }
      ]
    },
    {
      "cell_type": "code",
      "source": [
        "# Reinforce\n",
        "Recomp_bernoulli = RC(n_arms=5,no_of_plays=10000)\n",
        "\n",
        "for i in range(10000):\n",
        "  Recomp_bernoulli.update('normy',i)\n",
        "\n",
        "print(f'The learnt preference vector for Normal Rewards is{Recomp_bernoulli.preference}')\n",
        "print(f'The best arm from Algorithm is {np.argmax(Recomp_bernoulli.preference)+1}')\n"
      ],
      "metadata": {
        "colab": {
          "base_uri": "https://localhost:8080/"
        },
        "outputId": "6fc89fe0-c02f-4be2-c591-9538161f7a1e",
        "id": "ZDgOft-64Msr"
      },
      "execution_count": 48,
      "outputs": [
        {
          "output_type": "stream",
          "name": "stdout",
          "text": [
            "The learnt preference vector for Normal Rewards is[ 1.19025967  4.93712828 -0.88570275 -1.05375458 -1.09542223]\n",
            "The best arm from Algorithm is 2\n"
          ]
        }
      ]
    },
    {
      "cell_type": "code",
      "source": [
        "plt.plot(np.cumsum(regret_arr),'b',label='E-Greedy')\n",
        "plt.plot(np.cumsum(regret_arr2),'r',label='E-t Greedy')\n",
        "plt.plot(np.cumsum(regret_arr3),'g',label='UCB')\n",
        "plt.plot(np.cumsum(regret_arr5),'y',label='Thompson')\n",
        "plt.plot(np.cumsum(Recomp_bernoulli.regret),'c',label='Reinforce')\n",
        "plt.legend(loc='upper left',ncol=1)\n",
        "plt.xlabel('No. of plays')\n",
        "plt.ylabel(\"Cummulative Regret\")\n",
        "plt.grid()"
      ],
      "metadata": {
        "colab": {
          "base_uri": "https://localhost:8080/",
          "height": 279
        },
        "outputId": "c9fa2b87-a055-421f-a35c-6ed600962265",
        "id": "wWQylgyq4Msu"
      },
      "execution_count": 49,
      "outputs": [
        {
          "output_type": "display_data",
          "data": {
            "text/plain": [
              "<Figure size 432x288 with 1 Axes>"
            ],
            "image/png": "[encoded data removed]"
          },
          "metadata": {
            "needs_background": "light"
          }
        }
      ]
    },
    {
      "cell_type": "code",
      "source": [
        "plt.plot(np.cumsum(regret_arr4),'y',label='Softmax')\n",
        "plt.legend()\n",
        "plt.xlabel('No. of plays')\n",
        "plt.ylabel(\"Cummulative Regret\")\n",
        "plt.grid()"
      ],
      "metadata": {
        "colab": {
          "base_uri": "https://localhost:8080/",
          "height": 279
        },
        "id": "ZHPChMVuKk0u",
        "outputId": "f93771a8-7372-4a67-b365-285fd1e8dd75"
      },
      "execution_count": 50,
      "outputs": [
        {
          "output_type": "display_data",
          "data": {
            "text/plain": [
              "<Figure size 432x288 with 1 Axes>"
            ],
            "image/png": "[encoded data removed]"
          },
          "metadata": {
            "needs_background": "light"
          }
        }
      ]
    },
    {
      "cell_type": "markdown",
      "source": [
        "## K=10"
      ],
      "metadata": {
        "id": "DLbfsmWPLd2w"
      }
    },
    {
      "cell_type": "code",
      "source": [
        "#E-Greedy\n",
        "no_of_games=10000\n",
        "reward_matrix = np.zeros((no_of_games,10))\n",
        "action_matrix = np.zeros((no_of_games,10))\n",
        "regret_arr = np.zeros((1,no_of_games))[0]\n",
        "exp1 = epsilon_Greedy(0.1,no_of_arms=10,no_of_games=10000,is_e_i_greedy=0)\n",
        "for i in range(no_of_games):\n",
        "  arm=exp1.select_arms(reward_matrix,action_matrix,i)\n",
        "  action_matrix[i,int(arm)-1]=1\n",
        "  reward_matrix[i,int(arm)-1],regret_arr[i] = exp1.reward_generator('guassian', int(arm),i) \n",
        "\n",
        "\n",
        "  "
      ],
      "metadata": {
        "colab": {
          "base_uri": "https://localhost:8080/"
        },
        "outputId": "b8d3a0df-bceb-4169-a662-6dfa47b568b0",
        "id": "JbKglgy-K8dk"
      },
      "execution_count": 51,
      "outputs": [
        {
          "output_type": "stream",
          "name": "stderr",
          "text": [
            "/usr/local/lib/python3.7/dist-packages/ipykernel_launcher.py:38: RuntimeWarning: invalid value encountered in true_divide\n"
          ]
        }
      ]
    },
    {
      "cell_type": "code",
      "source": [
        "#E-t Greedy\n",
        "no_of_games=10000\n",
        "reward_matrix2 = np.zeros((no_of_games,10))\n",
        "action_matrix2 = np.zeros((no_of_games,10))\n",
        "regret_arr2 = np.zeros((1,no_of_games))[0]\n",
        "exp2 = epsilon_Greedy(0.1,no_of_arms=10,no_of_games=10000,is_e_i_greedy=1)\n",
        "for i in range(no_of_games):\n",
        "  arm=exp2.select_arms(reward_matrix2,action_matrix2,i)\n",
        "  action_matrix2[i,int(arm)-1]=1\n",
        "  reward_matrix2[i,int(arm)-1],regret_arr2[i] = exp2.reward_generator('guassian', int(arm),i) "
      ],
      "metadata": {
        "colab": {
          "base_uri": "https://localhost:8080/"
        },
        "outputId": "ebc53694-b985-4141-e9eb-80378a4073e6",
        "id": "13qqcmxeK8dn"
      },
      "execution_count": 52,
      "outputs": [
        {
          "output_type": "stream",
          "name": "stderr",
          "text": [
            "/usr/local/lib/python3.7/dist-packages/ipykernel_launcher.py:38: RuntimeWarning: invalid value encountered in true_divide\n"
          ]
        }
      ]
    },
    {
      "cell_type": "code",
      "source": [
        "#UCB\n",
        "reward_matrix3 = np.zeros((no_of_games,10))\n",
        "action_matrix3 = np.zeros((no_of_games,10))\n",
        "regret_arr3 = np.zeros((1,no_of_games))[0]\n",
        "ucb1 = UCB(no_of_arms=10,no_of_games=10000)\n",
        "for i in range(10000):\n",
        "  arm=ucb1.select_arms(reward_matrix3,action_matrix3,i)\n",
        "  action_matrix3[i,int(arm)-1]=1\n",
        "  reward_matrix3[i,int(arm)-1],regret_arr3[i] = ucb1.reward_generator('guassian', int(arm),i) \n"
      ],
      "metadata": {
        "colab": {
          "base_uri": "https://localhost:8080/"
        },
        "outputId": "d26a711e-c5f6-4497-a8eb-3616446c412e",
        "id": "JUM6ZH1cK8dp"
      },
      "execution_count": 53,
      "outputs": [
        {
          "output_type": "stream",
          "name": "stderr",
          "text": [
            "/usr/local/lib/python3.7/dist-packages/ipykernel_launcher.py:30: RuntimeWarning: invalid value encountered in true_divide\n",
            "/usr/local/lib/python3.7/dist-packages/ipykernel_launcher.py:31: RuntimeWarning: divide by zero encountered in log\n",
            "/usr/local/lib/python3.7/dist-packages/ipykernel_launcher.py:31: RuntimeWarning: invalid value encountered in sqrt\n",
            "/usr/local/lib/python3.7/dist-packages/ipykernel_launcher.py:31: RuntimeWarning: invalid value encountered in true_divide\n",
            "/usr/local/lib/python3.7/dist-packages/ipykernel_launcher.py:31: RuntimeWarning: divide by zero encountered in true_divide\n"
          ]
        }
      ]
    },
    {
      "cell_type": "code",
      "source": [
        "#Softmax\n",
        "\n",
        "reward_matrix4 = np.zeros((no_of_games,10))\n",
        "action_matrix4 = np.zeros((no_of_games,10))\n",
        "regret_arr4 = np.zeros((1,no_of_games))[0]\n",
        "soft = Softmax(temprature=0.01,no_of_arms=10,no_of_games=10000)\n",
        "for i in range(10000):\n",
        "  arm=soft.select_arms(reward_matrix4,action_matrix4,i)\n",
        "  action_matrix4[i,int(arm)-1]=1\n",
        "  reward_matrix4[i,int(arm)-1],regret_arr4[i] = soft.reward_generator('guassian', int(arm),i) \n"
      ],
      "metadata": {
        "colab": {
          "base_uri": "https://localhost:8080/"
        },
        "outputId": "a926af09-67fc-494f-8ddb-05afdd365d4a",
        "id": "X9sJ3mLXK8dr"
      },
      "execution_count": 54,
      "outputs": [
        {
          "output_type": "stream",
          "name": "stderr",
          "text": [
            "/usr/local/lib/python3.7/dist-packages/ipykernel_launcher.py:31: RuntimeWarning: invalid value encountered in true_divide\n"
          ]
        }
      ]
    },
    {
      "cell_type": "code",
      "source": [
        "#Thompson-Sampling\n",
        "\n",
        "reward_matrix5 = np.zeros((no_of_games,10))\n",
        "action_matrix5 = np.zeros((no_of_games,10))\n",
        "regret_arr5 = np.zeros((1,no_of_games))[0]\n",
        "TS = Thompson_Sampling(no_of_arms=10,no_of_games=10000)\n",
        "for i in range(10000):\n",
        "  arm=TS.select_arms(reward_matrix5,action_matrix5,i)\n",
        "  action_matrix5[i,int(arm)-1]=1\n",
        "  reward_matrix5[i,int(arm)-1],regret_arr5[i] = TS.reward_generator('guassian', int(arm),i) \n"
      ],
      "metadata": {
        "colab": {
          "base_uri": "https://localhost:8080/"
        },
        "outputId": "1217b4dc-f4ab-467d-82be-58b1d98be8bc",
        "id": "EZZzfLw_K8ds"
      },
      "execution_count": 55,
      "outputs": [
        {
          "output_type": "stream",
          "name": "stdout",
          "text": [
            "0.0 0.0\n"
          ]
        },
        {
          "output_type": "stream",
          "name": "stderr",
          "text": [
            "/usr/local/lib/python3.7/dist-packages/ipykernel_launcher.py:37: RuntimeWarning: invalid value encountered in double_scalars\n"
          ]
        }
      ]
    },
    {
      "cell_type": "code",
      "source": [
        "# Reinforce\n",
        "Recomp_bernoulli = RC(n_arms=10,no_of_plays=10000)\n",
        "\n",
        "for i in range(10000):\n",
        "  Recomp_bernoulli.update('normy',i)\n",
        "\n",
        "print(f'The learnt preference vector for Bernoulli Rewards is{Recomp_bernoulli.preference}')\n",
        "print(f'The best arm from Algorithm is {np.argmax(Recomp_bernoulli.preference)+1}')\n"
      ],
      "metadata": {
        "colab": {
          "base_uri": "https://localhost:8080/"
        },
        "outputId": "5e99ab4b-589e-496d-d787-97244f1b544c",
        "id": "G1UMawvj4hc7"
      },
      "execution_count": 56,
      "outputs": [
        {
          "output_type": "stream",
          "name": "stdout",
          "text": [
            "The learnt preference vector for Bernoulli Rewards is[ 0.56808961  7.98385672 -0.34099472 -0.31131716 -0.57841433  0.38244521\n",
            "  0.14631962 -0.73755337 -0.1049127  -0.71711387]\n",
            "The best arm from Algorithm is 2\n"
          ]
        }
      ]
    },
    {
      "cell_type": "code",
      "source": [
        "plt.plot(np.cumsum(regret_arr),'b',label='E-Greedy')\n",
        "plt.plot(np.cumsum(regret_arr2),'r',label='E-t Greedy')\n",
        "plt.plot(np.cumsum(regret_arr3),'g',label='UCB')\n",
        "plt.plot(np.cumsum(regret_arr5),'y',label='Thompson')\n",
        "plt.plot(np.cumsum(Recomp_bernoulli.regret),'c',label='Reinforce')\n",
        "plt.legend(loc='upper left',ncol=1)\n",
        "plt.xlabel('No. of plays')\n",
        "plt.ylabel(\"Cummulative Regret\")\n",
        "plt.grid()"
      ],
      "metadata": {
        "colab": {
          "base_uri": "https://localhost:8080/",
          "height": 279
        },
        "outputId": "e78a63e6-3f37-4578-9d28-be3541ac61ba",
        "id": "KQg4VT_K4hc9"
      },
      "execution_count": 57,
      "outputs": [
        {
          "output_type": "display_data",
          "data": {
            "text/plain": [
              "<Figure size 432x288 with 1 Axes>"
            ],
            "image/png": "[encoded data removed]"
          },
          "metadata": {
            "needs_background": "light"
          }
        }
      ]
    },
    {
      "cell_type": "code",
      "source": [
        "plt.plot(np.cumsum(regret_arr4),'y',label='Softmax')\n",
        "plt.legend()\n",
        "plt.xlabel('No. of plays')\n",
        "plt.ylabel(\"Cummulative Regret\")\n",
        "plt.grid()"
      ],
      "metadata": {
        "colab": {
          "base_uri": "https://localhost:8080/",
          "height": 279
        },
        "outputId": "06cb07b6-4613-49dd-8490-94c4350d9cbe",
        "id": "8_jhsyYZK8du"
      },
      "execution_count": 58,
      "outputs": [
        {
          "output_type": "display_data",
          "data": {
            "text/plain": [
              "<Figure size 432x288 with 1 Axes>"
            ],
            "image/png": "[encoded data removed]"
          },
          "metadata": {
            "needs_background": "light"
          }
        }
      ]
    }
  ]
}